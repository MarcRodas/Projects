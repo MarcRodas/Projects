{
  "cells": [
    {
      "cell_type": "markdown",
      "metadata": {
        "id": "6ZVpkYQixSMP"
      },
      "source": [
        "Install keras"
      ]
    },
    {
      "cell_type": "code",
      "execution_count": 1,
      "metadata": {
        "colab": {
          "base_uri": "https://localhost:8080/"
        },
        "id": "F_z65L25xNTn",
        "outputId": "31351ac0-1b91-43b2-e96c-b1aaddf180fb"
      },
      "outputs": [
        {
          "output_type": "stream",
          "name": "stdout",
          "text": [
            "Looking in indexes: https://pypi.org/simple, https://us-python.pkg.dev/colab-wheels/public/simple/\n",
            "Requirement already satisfied: keras in /usr/local/lib/python3.10/dist-packages (2.12.0)\n"
          ]
        }
      ],
      "source": [
        "!pip3 install keras"
      ]
    },
    {
      "cell_type": "markdown",
      "metadata": {
        "id": "r4I_uhyrxVsi"
      },
      "source": [
        "Download data and uncompress"
      ]
    },
    {
      "cell_type": "code",
      "execution_count": 2,
      "metadata": {
        "colab": {
          "base_uri": "https://localhost:8080/"
        },
        "id": "FMT6N3G8xRxQ",
        "outputId": "48d0a977-b585-4a65-e2e1-269c9513473e"
      },
      "outputs": [
        {
          "output_type": "stream",
          "name": "stdout",
          "text": [
            "--2023-06-03 16:47:48--  https://www.dropbox.com/s/zcwlujrtz3izcw8/gender.tgz\n",
            "Resolving www.dropbox.com (www.dropbox.com)... 162.125.71.18, 2620:100:601a:18::a27d:712\n",
            "Connecting to www.dropbox.com (www.dropbox.com)|162.125.71.18|:443... connected.\n",
            "HTTP request sent, awaiting response... 302 Found\n",
            "Location: /s/raw/zcwlujrtz3izcw8/gender.tgz [following]\n",
            "--2023-06-03 16:47:48--  https://www.dropbox.com/s/raw/zcwlujrtz3izcw8/gender.tgz\n",
            "Reusing existing connection to www.dropbox.com:443.\n",
            "HTTP request sent, awaiting response... 302 Found\n",
            "Location: https://uc1daef2430c4d22be0860cd4550.dl.dropboxusercontent.com/cd/0/inline/B9QQMJKJP4RDHaOMrT0_LkDBI3HdwIE4EqVZzyhOym1ECO2ec8eAIyGvaaPQoxFJYvB8Wnyc63vly1P7du-gCXNO389zG2H1F32xlBAd09K5Lqa9ySJPPVO7O2RXUU6yd8-WTTdB0LcEyOHVnKYZtgGr19BdAlLFIviaDDJQuRdF1Q/file# [following]\n",
            "--2023-06-03 16:47:48--  https://uc1daef2430c4d22be0860cd4550.dl.dropboxusercontent.com/cd/0/inline/B9QQMJKJP4RDHaOMrT0_LkDBI3HdwIE4EqVZzyhOym1ECO2ec8eAIyGvaaPQoxFJYvB8Wnyc63vly1P7du-gCXNO389zG2H1F32xlBAd09K5Lqa9ySJPPVO7O2RXUU6yd8-WTTdB0LcEyOHVnKYZtgGr19BdAlLFIviaDDJQuRdF1Q/file\n",
            "Resolving uc1daef2430c4d22be0860cd4550.dl.dropboxusercontent.com (uc1daef2430c4d22be0860cd4550.dl.dropboxusercontent.com)... 162.125.2.15, 2620:100:6027:15::a27d:480f\n",
            "Connecting to uc1daef2430c4d22be0860cd4550.dl.dropboxusercontent.com (uc1daef2430c4d22be0860cd4550.dl.dropboxusercontent.com)|162.125.2.15|:443... connected.\n",
            "HTTP request sent, awaiting response... 302 Found\n",
            "Location: /cd/0/inline2/B9Qg6ZefiKnTKQ6PB5r6IOQT7w9ulXptIt9l1yWieQwr0rSrUv79X_EiSgrNolQUFas91YHoJ95bqZNU5iTQxxJZrIYbi8YYOtXPqUdXMyXt84sUUTiLc9yNXEjIWs4urPWB2Al9_g8EXxcc5I7ZOzFfOoSxDc6okoeggLpXp8wzB8qTMyTLA9F6aw_UH2IgK_h7wOI33R4c_iWa830pNtHpod5O5D8INciviFuNsBO6EQ8MVQ_U3r6zfrEJcM5zBIlukcSV61UeDBg4zhktjqFuK2OCzWGqeWiEe5-Rjy-FeaZ5I8PzbegC-7KWbYwwZPf2IGVp9sa985QP8mGhQZlZW3ePu6-le8KUhYWh_5bVYhvynQ1HgFaghhcJV2Y8LglB06YYR3bFpHvtXN16Zwp2b2OakZgiLWCKxLJiYKRYWQ/file [following]\n",
            "--2023-06-03 16:47:50--  https://uc1daef2430c4d22be0860cd4550.dl.dropboxusercontent.com/cd/0/inline2/B9Qg6ZefiKnTKQ6PB5r6IOQT7w9ulXptIt9l1yWieQwr0rSrUv79X_EiSgrNolQUFas91YHoJ95bqZNU5iTQxxJZrIYbi8YYOtXPqUdXMyXt84sUUTiLc9yNXEjIWs4urPWB2Al9_g8EXxcc5I7ZOzFfOoSxDc6okoeggLpXp8wzB8qTMyTLA9F6aw_UH2IgK_h7wOI33R4c_iWa830pNtHpod5O5D8INciviFuNsBO6EQ8MVQ_U3r6zfrEJcM5zBIlukcSV61UeDBg4zhktjqFuK2OCzWGqeWiEe5-Rjy-FeaZ5I8PzbegC-7KWbYwwZPf2IGVp9sa985QP8mGhQZlZW3ePu6-le8KUhYWh_5bVYhvynQ1HgFaghhcJV2Y8LglB06YYR3bFpHvtXN16Zwp2b2OakZgiLWCKxLJiYKRYWQ/file\n",
            "Reusing existing connection to uc1daef2430c4d22be0860cd4550.dl.dropboxusercontent.com:443.\n",
            "HTTP request sent, awaiting response... 200 OK\n",
            "Length: 348494455 (332M) [application/x-gtar]\n",
            "Saving to: ‘gender.tgz’\n",
            "\n",
            "gender.tgz          100%[===================>] 332.35M  19.8MB/s    in 19s     \n",
            "\n",
            "2023-06-03 16:48:09 (17.9 MB/s) - ‘gender.tgz’ saved [348494455/348494455]\n",
            "\n",
            "./._x_test.npy\n",
            "x_test.npy\n",
            "./._x_train.npy\n",
            "x_train.npy\n",
            "./._y_test.npy\n",
            "y_test.npy\n",
            "./._y_train.npy\n",
            "y_train.npy\n"
          ]
        }
      ],
      "source": [
        "!wget https://www.dropbox.com/s/zcwlujrtz3izcw8/gender.tgz\n",
        "!tar xvzf gender.tgz"
      ]
    },
    {
      "cell_type": "markdown",
      "metadata": {
        "id": "UfpSAifWxdFl"
      },
      "source": [
        "Import packages "
      ]
    },
    {
      "cell_type": "code",
      "execution_count": 3,
      "metadata": {
        "id": "3qsOFZCExfFh"
      },
      "outputs": [],
      "source": [
        "import numpy as np\n",
        "import matplotlib.pyplot as plt\n",
        "from __future__ import print_function\n",
        "import keras\n",
        "from keras.datasets import cifar10\n",
        "from keras.models import Sequential\n",
        "from keras.layers import Dense, Dropout, Activation, Flatten\n",
        "from keras.layers import Conv2D, MaxPooling2D\n",
        "from keras.layers import BatchNormalization as BN\n",
        "from keras.layers import GaussianNoise as GN\n",
        "from keras.optimizers import SGD\n",
        "\n",
        "from keras.callbacks import LearningRateScheduler as LRS\n",
        "from keras.preprocessing.image import ImageDataGenerator\n",
        "from keras.callbacks import LearningRateScheduler as LRS\n",
        "from keras.preprocessing.image import ImageDataGenerator\n",
        "from keras.callbacks import EarlyStopping\n",
        "from keras.callbacks import ModelCheckpoint\n",
        "import matplotlib.pyplot as plt"
      ]
    },
    {
      "cell_type": "markdown",
      "metadata": {
        "id": "vbxzdKZIxiaO"
      },
      "source": [
        "Load and prepare data"
      ]
    },
    {
      "cell_type": "code",
      "execution_count": 4,
      "metadata": {
        "colab": {
          "base_uri": "https://localhost:8080/",
          "height": 641
        },
        "id": "8X70BXsIxj_a",
        "outputId": "e14dd512-ff06-438c-a032-081d45a5661a"
      },
      "outputs": [
        {
          "output_type": "stream",
          "name": "stdout",
          "text": [
            "(10585, 100, 100, 3)\n",
            "(10585,)\n",
            "2381\n",
            "8204\n",
            "0.2249\n",
            "(2648, 100, 100, 3)\n",
            "(2648,)\n",
            "596\n",
            "2052\n",
            "0.2251\n"
          ]
        },
        {
          "output_type": "display_data",
          "data": {
            "text/plain": [
              "<Figure size 640x480 with 1 Axes>"
            ],
            "image/png": "[encoded data removed]"
          },
          "metadata": {}
        },
        {
          "output_type": "stream",
          "name": "stdout",
          "text": [
            "(10585, 100, 100, 3)\n",
            "(2648, 100, 100, 3)\n"
          ]
        }
      ],
      "source": [
        "# Load \n",
        "x_train = np.load('x_train.npy')\n",
        "x_test = np.load('x_test.npy')\n",
        "\n",
        "y_train = np.load('y_train.npy')\n",
        "y_test = np.load('y_test.npy')\n",
        "\n",
        "# Stats\n",
        "print(x_train.shape)\n",
        "print(y_train.shape)\n",
        "print(sum(y_train == 1))\n",
        "print(sum(y_train == 0))\n",
        "print(\"{:.4f}\".format(sum(y_train == 1)/y_train.shape[0]))\n",
        "print(x_test.shape)\n",
        "print(y_test.shape)\n",
        "print(sum(y_test == 1))\n",
        "print(sum(y_test == 0))\n",
        "print(\"{:.4f}\".format(sum(y_test == 1)/y_test.shape[0]))\n",
        "\n",
        "\n",
        "## View some images\n",
        "plt.imshow(x_train[0,:,:,: ] )\n",
        "plt.show()\n",
        "\n",
        "\n",
        "## Transforms\n",
        "x_train = x_train.astype('float32')\n",
        "x_test = x_test.astype('float32')\n",
        "\n",
        "y_train = y_train.astype('float32')\n",
        "y_test = y_test.astype('float32')\n",
        "\n",
        "\n",
        "x_train /= 255\n",
        "x_test /= 255\n",
        "\n",
        "print(x_train.shape)\n",
        "print(x_test.shape)\n",
        "\n",
        "\n",
        "num_classes = 2\n",
        "\n",
        "y_train = keras.utils.to_categorical(y_train, num_classes)\n",
        "y_test = keras.utils.to_categorical(y_test, num_classes)\n"
      ]
    },
    {
      "cell_type": "markdown",
      "metadata": {
        "id": "wLTRtJVgx4MK"
      },
      "source": [
        "Create model, data augmentation etc... "
      ]
    },
    {
      "cell_type": "code",
      "execution_count": 5,
      "metadata": {
        "id": "IyPF2hG9Dqq5"
      },
      "outputs": [],
      "source": [
        "## DEFINE A DATA AUGMENTATION GENERATOR\n",
        "\n",
        "datagen = ImageDataGenerator(\n",
        "    rotation_range=15,\n",
        "    width_shift_range=0.2,\n",
        "    height_shift_range=0.2,\n",
        "    horizontal_flip=True,\n",
        "    zoom_range = 0.2)"
      ]
    },
    {
      "cell_type": "code",
      "execution_count": 6,
      "metadata": {
        "id": "ZONT7uh7Def3"
      },
      "outputs": [],
      "source": [
        "batch_size = 64\n",
        "epochs = 100"
      ]
    },
    {
      "cell_type": "code",
      "execution_count": 17,
      "metadata": {
        "id": "umy54NidDkJy"
      },
      "outputs": [],
      "source": [
        "## DEF A BLOCK CONV + BN + GN + MAXPOOL\n",
        "def CBGN(model,filters,ishape=0):\n",
        "  if (ishape!=0):\n",
        "    model.add(Conv2D(filters, (3, 3), padding='same',\n",
        "                 input_shape=ishape))\n",
        "  else:\n",
        "    model.add(Conv2D(filters, (3, 3), padding='same'))\n",
        "  \n",
        "  model.add(BN())\n",
        "  model.add(GN(0.1))\n",
        "  model.add(Activation('relu'))\n",
        "  model.add(MaxPooling2D(pool_size=(2, 2)))\n",
        "  \n",
        "  return model"
      ]
    },
    {
      "cell_type": "code",
      "execution_count": 19,
      "metadata": {
        "colab": {
          "base_uri": "https://localhost:8080/"
        },
        "id": "BrvpMdM9Dnan",
        "outputId": "a2f2fd64-aff8-46b9-c597-8f2e600aa608"
      },
      "outputs": [
        {
          "output_type": "stream",
          "name": "stdout",
          "text": [
            "Model: \"sequential_9\"\n",
            "_________________________________________________________________\n",
            " Layer (type)                Output Shape              Param #   \n",
            "=================================================================\n",
            " conv2d_28 (Conv2D)          (None, 100, 100, 32)      896       \n",
            "                                                                 \n",
            " batch_normalization_28 (Bat  (None, 100, 100, 32)     128       \n",
            " chNormalization)                                                \n",
            "                                                                 \n",
            " gaussian_noise_28 (Gaussian  (None, 100, 100, 32)     0         \n",
            " Noise)                                                          \n",
            "                                                                 \n",
            " activation_28 (Activation)  (None, 100, 100, 32)      0         \n",
            "                                                                 \n",
            " max_pooling2d_24 (MaxPoolin  (None, 50, 50, 32)       0         \n",
            " g2D)                                                            \n",
            "                                                                 \n",
            " conv2d_29 (Conv2D)          (None, 50, 50, 32)        9248      \n",
            "                                                                 \n",
            " batch_normalization_29 (Bat  (None, 50, 50, 32)       128       \n",
            " chNormalization)                                                \n",
            "                                                                 \n",
            " gaussian_noise_29 (Gaussian  (None, 50, 50, 32)       0         \n",
            " Noise)                                                          \n",
            "                                                                 \n",
            " activation_29 (Activation)  (None, 50, 50, 32)        0         \n",
            "                                                                 \n",
            " max_pooling2d_25 (MaxPoolin  (None, 25, 25, 32)       0         \n",
            " g2D)                                                            \n",
            "                                                                 \n",
            " dropout_9 (Dropout)         (None, 25, 25, 32)        0         \n",
            "                                                                 \n",
            " conv2d_30 (Conv2D)          (None, 25, 25, 64)        18496     \n",
            "                                                                 \n",
            " batch_normalization_30 (Bat  (None, 25, 25, 64)       256       \n",
            " chNormalization)                                                \n",
            "                                                                 \n",
            " gaussian_noise_30 (Gaussian  (None, 25, 25, 64)       0         \n",
            " Noise)                                                          \n",
            "                                                                 \n",
            " activation_30 (Activation)  (None, 25, 25, 64)        0         \n",
            "                                                                 \n",
            " max_pooling2d_26 (MaxPoolin  (None, 12, 12, 64)       0         \n",
            " g2D)                                                            \n",
            "                                                                 \n",
            " conv2d_31 (Conv2D)          (None, 12, 12, 64)        36928     \n",
            "                                                                 \n",
            " batch_normalization_31 (Bat  (None, 12, 12, 64)       256       \n",
            " chNormalization)                                                \n",
            "                                                                 \n",
            " gaussian_noise_31 (Gaussian  (None, 12, 12, 64)       0         \n",
            " Noise)                                                          \n",
            "                                                                 \n",
            " activation_31 (Activation)  (None, 12, 12, 64)        0         \n",
            "                                                                 \n",
            " max_pooling2d_27 (MaxPoolin  (None, 6, 6, 64)         0         \n",
            " g2D)                                                            \n",
            "                                                                 \n",
            " flatten_9 (Flatten)         (None, 2304)              0         \n",
            "                                                                 \n",
            " dense_9 (Dense)             (None, 2)                 4610      \n",
            "                                                                 \n",
            "=================================================================\n",
            "Total params: 70,946\n",
            "Trainable params: 70,562\n",
            "Non-trainable params: 384\n",
            "_________________________________________________________________\n"
          ]
        }
      ],
      "source": [
        "## DEF NN TOPOLOGY  \n",
        "model = Sequential()\n",
        "\n",
        "model=CBGN(model,32,x_train.shape[1:])\n",
        "model=CBGN(model,32)\n",
        "model.add(Dropout(0.1))\n",
        "model=CBGN(model,64)\n",
        "model=CBGN(model,64)\n",
        "\n",
        "model.add(Flatten())\n",
        "\n",
        "model.add(Dense(num_classes, activation='softmax'))\n",
        "\n",
        "model.summary()"
      ]
    },
    {
      "cell_type": "code",
      "execution_count": 20,
      "metadata": {
        "colab": {
          "base_uri": "https://localhost:8080/"
        },
        "id": "n5QHzXGmDyKU",
        "outputId": "daf0c45f-1129-444f-ee7b-4d128f76b9c8"
      },
      "outputs": [
        {
          "output_type": "stream",
          "name": "stderr",
          "text": [
            "WARNING:tensorflow:EarlyStopping mode <built-in function min> is unknown, fallback to auto mode.\n"
          ]
        }
      ],
      "source": [
        "# Early Stopping\n",
        "es = EarlyStopping(\n",
        "    monitor='val_loss',\n",
        "    patience=100,\n",
        "    verbose=1,\n",
        "    mode=min\n",
        ")\n",
        "#Checkpoint\n",
        "mc = ModelCheckpoint(\n",
        "    'best_m.h5',\n",
        "    monitor='val_accuracy',\n",
        "    mode='max',\n",
        "    verbose=1,\n",
        "    save_best_only=True\n",
        ")"
      ]
    },
    {
      "cell_type": "code",
      "execution_count": 21,
      "metadata": {
        "id": "L-_TwKe9D-48"
      },
      "outputs": [],
      "source": [
        "reduce_lr = keras.callbacks.ReduceLROnPlateau(patience = 15)"
      ]
    },
    {
      "cell_type": "code",
      "execution_count": 22,
      "metadata": {
        "id": "0uOxDhRHEJBo"
      },
      "outputs": [],
      "source": [
        "def plot_evolution(history):\n",
        "  plt.plot(history.history['accuracy'])\n",
        "  plt.plot(history.history['val_accuracy'])\n",
        "  plt.title('model accuracy')\n",
        "  plt.ylabel('accuracy')\n",
        "  plt.xlabel('epoch')\n",
        "  plt.legend(['train', 'test'], loc='upper left')\n",
        "  plt.show()"
      ]
    },
    {
      "cell_type": "code",
      "execution_count": 23,
      "metadata": {
        "id": "TfyIw3H-EKfO"
      },
      "outputs": [],
      "source": [
        "model.compile(loss='categorical_crossentropy',\n",
        "              optimizer='adam',\n",
        "              metrics=['accuracy'])"
      ]
    },
    {
      "cell_type": "code",
      "execution_count": 24,
      "metadata": {
        "colab": {
          "base_uri": "https://localhost:8080/",
          "height": 1000
        },
        "id": "YlfrVrPjEL_a",
        "outputId": "88d28161-216f-4c26-dab7-1dc1cc039efe"
      },
      "outputs": [
        {
          "output_type": "stream",
          "name": "stdout",
          "text": [
            "Epoch 1/100\n",
            "\n",
            "Epoch 1: val_accuracy improved from -inf to 0.77492, saving model to best_m.h5\n",
            "165/165 - 43s - loss: 0.5345 - accuracy: 0.7725 - val_loss: 0.5267 - val_accuracy: 0.7749 - lr: 0.0010 - 43s/epoch - 260ms/step\n",
            "Epoch 2/100\n",
            "\n",
            "Epoch 2: val_accuracy improved from 0.77492 to 0.78134, saving model to best_m.h5\n",
            "165/165 - 31s - loss: 0.4309 - accuracy: 0.7999 - val_loss: 0.4363 - val_accuracy: 0.7813 - lr: 0.0010 - 31s/epoch - 185ms/step\n",
            "Epoch 3/100\n",
            "\n",
            "Epoch 3: val_accuracy improved from 0.78134 to 0.84101, saving model to best_m.h5\n",
            "165/165 - 29s - loss: 0.4136 - accuracy: 0.8135 - val_loss: 0.3716 - val_accuracy: 0.8410 - lr: 0.0010 - 29s/epoch - 177ms/step\n",
            "Epoch 4/100\n",
            "\n",
            "Epoch 4: val_accuracy improved from 0.84101 to 0.86405, saving model to best_m.h5\n",
            "165/165 - 29s - loss: 0.3771 - accuracy: 0.8324 - val_loss: 0.3060 - val_accuracy: 0.8640 - lr: 0.0010 - 29s/epoch - 178ms/step\n",
            "Epoch 5/100\n",
            "\n",
            "Epoch 5: val_accuracy did not improve from 0.86405\n",
            "165/165 - 30s - loss: 0.3533 - accuracy: 0.8464 - val_loss: 0.6799 - val_accuracy: 0.7908 - lr: 0.0010 - 30s/epoch - 182ms/step\n",
            "Epoch 6/100\n",
            "\n",
            "Epoch 6: val_accuracy improved from 0.86405 to 0.90106, saving model to best_m.h5\n",
            "165/165 - 29s - loss: 0.3265 - accuracy: 0.8617 - val_loss: 0.2402 - val_accuracy: 0.9011 - lr: 0.0010 - 29s/epoch - 177ms/step\n",
            "Epoch 7/100\n",
            "\n",
            "Epoch 7: val_accuracy did not improve from 0.90106\n",
            "165/165 - 30s - loss: 0.2968 - accuracy: 0.8768 - val_loss: 0.3033 - val_accuracy: 0.8742 - lr: 0.0010 - 30s/epoch - 181ms/step\n",
            "Epoch 8/100\n",
            "\n",
            "Epoch 8: val_accuracy improved from 0.90106 to 0.90295, saving model to best_m.h5\n",
            "165/165 - 29s - loss: 0.2850 - accuracy: 0.8849 - val_loss: 0.2245 - val_accuracy: 0.9029 - lr: 0.0010 - 29s/epoch - 177ms/step\n",
            "Epoch 9/100\n",
            "\n",
            "Epoch 9: val_accuracy improved from 0.90295 to 0.93920, saving model to best_m.h5\n",
            "165/165 - 29s - loss: 0.2396 - accuracy: 0.9000 - val_loss: 0.1619 - val_accuracy: 0.9392 - lr: 0.0010 - 29s/epoch - 176ms/step\n",
            "Epoch 10/100\n",
            "\n",
            "Epoch 10: val_accuracy did not improve from 0.93920\n",
            "165/165 - 30s - loss: 0.2450 - accuracy: 0.9027 - val_loss: 0.3545 - val_accuracy: 0.8788 - lr: 0.0010 - 30s/epoch - 182ms/step\n",
            "Epoch 11/100\n",
            "\n",
            "Epoch 11: val_accuracy did not improve from 0.93920\n",
            "165/165 - 29s - loss: 0.2168 - accuracy: 0.9125 - val_loss: 0.1970 - val_accuracy: 0.9215 - lr: 0.0010 - 29s/epoch - 176ms/step\n",
            "Epoch 12/100\n",
            "\n",
            "Epoch 12: val_accuracy did not improve from 0.93920\n",
            "165/165 - 29s - loss: 0.1986 - accuracy: 0.9222 - val_loss: 0.3238 - val_accuracy: 0.8822 - lr: 0.0010 - 29s/epoch - 178ms/step\n",
            "Epoch 13/100\n",
            "\n",
            "Epoch 13: val_accuracy improved from 0.93920 to 0.94260, saving model to best_m.h5\n",
            "165/165 - 31s - loss: 0.1956 - accuracy: 0.9218 - val_loss: 0.1539 - val_accuracy: 0.9426 - lr: 0.0010 - 31s/epoch - 185ms/step\n",
            "Epoch 14/100\n",
            "\n",
            "Epoch 14: val_accuracy did not improve from 0.94260\n",
            "165/165 - 29s - loss: 0.1815 - accuracy: 0.9273 - val_loss: 0.2520 - val_accuracy: 0.9113 - lr: 0.0010 - 29s/epoch - 178ms/step\n",
            "Epoch 15/100\n",
            "\n",
            "Epoch 15: val_accuracy did not improve from 0.94260\n",
            "165/165 - 29s - loss: 0.1874 - accuracy: 0.9262 - val_loss: 0.1923 - val_accuracy: 0.9196 - lr: 0.0010 - 29s/epoch - 177ms/step\n",
            "Epoch 16/100\n",
            "\n",
            "Epoch 16: val_accuracy did not improve from 0.94260\n",
            "165/165 - 30s - loss: 0.1717 - accuracy: 0.9319 - val_loss: 0.1792 - val_accuracy: 0.9309 - lr: 0.0010 - 30s/epoch - 184ms/step\n",
            "Epoch 17/100\n",
            "\n",
            "Epoch 17: val_accuracy did not improve from 0.94260\n",
            "165/165 - 29s - loss: 0.1641 - accuracy: 0.9357 - val_loss: 0.1535 - val_accuracy: 0.9384 - lr: 0.0010 - 29s/epoch - 177ms/step\n",
            "Epoch 18/100\n",
            "\n",
            "Epoch 18: val_accuracy improved from 0.94260 to 0.96601, saving model to best_m.h5\n",
            "165/165 - 29s - loss: 0.1574 - accuracy: 0.9384 - val_loss: 0.0963 - val_accuracy: 0.9660 - lr: 0.0010 - 29s/epoch - 178ms/step\n",
            "Epoch 19/100\n",
            "\n",
            "Epoch 19: val_accuracy did not improve from 0.96601\n",
            "165/165 - 30s - loss: 0.1589 - accuracy: 0.9383 - val_loss: 0.3875 - val_accuracy: 0.8365 - lr: 0.0010 - 30s/epoch - 182ms/step\n",
            "Epoch 20/100\n",
            "\n",
            "Epoch 20: val_accuracy did not improve from 0.96601\n",
            "165/165 - 30s - loss: 0.1591 - accuracy: 0.9355 - val_loss: 0.0994 - val_accuracy: 0.9619 - lr: 0.0010 - 30s/epoch - 180ms/step\n",
            "Epoch 21/100\n",
            "\n",
            "Epoch 21: val_accuracy did not improve from 0.96601\n",
            "165/165 - 31s - loss: 0.1525 - accuracy: 0.9398 - val_loss: 0.1185 - val_accuracy: 0.9558 - lr: 0.0010 - 31s/epoch - 187ms/step\n",
            "Epoch 22/100\n",
            "\n",
            "Epoch 22: val_accuracy did not improve from 0.96601\n",
            "165/165 - 30s - loss: 0.1609 - accuracy: 0.9369 - val_loss: 0.1395 - val_accuracy: 0.9471 - lr: 0.0010 - 30s/epoch - 182ms/step\n",
            "Epoch 23/100\n",
            "\n",
            "Epoch 23: val_accuracy did not improve from 0.96601\n",
            "165/165 - 30s - loss: 0.1453 - accuracy: 0.9425 - val_loss: 0.1699 - val_accuracy: 0.9377 - lr: 0.0010 - 30s/epoch - 181ms/step\n",
            "Epoch 24/100\n",
            "\n",
            "Epoch 24: val_accuracy did not improve from 0.96601\n",
            "165/165 - 31s - loss: 0.1514 - accuracy: 0.9408 - val_loss: 0.1041 - val_accuracy: 0.9592 - lr: 0.0010 - 31s/epoch - 186ms/step\n",
            "Epoch 25/100\n",
            "\n",
            "Epoch 25: val_accuracy did not improve from 0.96601\n",
            "165/165 - 30s - loss: 0.1448 - accuracy: 0.9420 - val_loss: 0.2492 - val_accuracy: 0.9026 - lr: 0.0010 - 30s/epoch - 181ms/step\n",
            "Epoch 26/100\n",
            "\n",
            "Epoch 26: val_accuracy did not improve from 0.96601\n",
            "165/165 - 30s - loss: 0.1322 - accuracy: 0.9499 - val_loss: 0.0913 - val_accuracy: 0.9660 - lr: 0.0010 - 30s/epoch - 182ms/step\n",
            "Epoch 27/100\n",
            "\n",
            "Epoch 27: val_accuracy did not improve from 0.96601\n",
            "165/165 - 31s - loss: 0.1288 - accuracy: 0.9479 - val_loss: 0.1708 - val_accuracy: 0.9339 - lr: 0.0010 - 31s/epoch - 186ms/step\n",
            "Epoch 28/100\n",
            "\n",
            "Epoch 28: val_accuracy did not improve from 0.96601\n",
            "165/165 - 30s - loss: 0.1381 - accuracy: 0.9471 - val_loss: 0.1922 - val_accuracy: 0.9339 - lr: 0.0010 - 30s/epoch - 181ms/step\n",
            "Epoch 29/100\n",
            "\n",
            "Epoch 29: val_accuracy did not improve from 0.96601\n",
            "165/165 - 30s - loss: 0.1335 - accuracy: 0.9502 - val_loss: 0.2273 - val_accuracy: 0.9264 - lr: 0.0010 - 30s/epoch - 184ms/step\n",
            "Epoch 30/100\n",
            "\n",
            "Epoch 30: val_accuracy did not improve from 0.96601\n",
            "165/165 - 31s - loss: 0.1305 - accuracy: 0.9505 - val_loss: 0.2148 - val_accuracy: 0.9199 - lr: 0.0010 - 31s/epoch - 186ms/step\n",
            "Epoch 31/100\n",
            "\n",
            "Epoch 31: val_accuracy did not improve from 0.96601\n",
            "165/165 - 30s - loss: 0.1207 - accuracy: 0.9545 - val_loss: 0.1023 - val_accuracy: 0.9641 - lr: 0.0010 - 30s/epoch - 182ms/step\n",
            "Epoch 32/100\n",
            "\n",
            "Epoch 32: val_accuracy did not improve from 0.96601\n",
            "165/165 - 31s - loss: 0.1201 - accuracy: 0.9543 - val_loss: 0.2275 - val_accuracy: 0.9290 - lr: 0.0010 - 31s/epoch - 185ms/step\n",
            "Epoch 33/100\n",
            "\n",
            "Epoch 33: val_accuracy improved from 0.96601 to 0.96979, saving model to best_m.h5\n",
            "165/165 - 30s - loss: 0.1197 - accuracy: 0.9532 - val_loss: 0.0789 - val_accuracy: 0.9698 - lr: 0.0010 - 30s/epoch - 180ms/step\n",
            "Epoch 34/100\n",
            "\n",
            "Epoch 34: val_accuracy did not improve from 0.96979\n",
            "165/165 - 29s - loss: 0.1274 - accuracy: 0.9523 - val_loss: 0.2632 - val_accuracy: 0.9248 - lr: 0.0010 - 29s/epoch - 178ms/step\n",
            "Epoch 35/100\n",
            "\n",
            "Epoch 35: val_accuracy did not improve from 0.96979\n",
            "165/165 - 31s - loss: 0.1194 - accuracy: 0.9537 - val_loss: 0.1093 - val_accuracy: 0.9592 - lr: 0.0010 - 31s/epoch - 188ms/step\n",
            "Epoch 36/100\n",
            "\n",
            "Epoch 36: val_accuracy did not improve from 0.96979\n",
            "165/165 - 30s - loss: 0.1112 - accuracy: 0.9592 - val_loss: 0.1328 - val_accuracy: 0.9547 - lr: 0.0010 - 30s/epoch - 179ms/step\n",
            "Epoch 37/100\n",
            "\n",
            "Epoch 37: val_accuracy did not improve from 0.96979\n",
            "165/165 - 30s - loss: 0.1147 - accuracy: 0.9549 - val_loss: 0.1287 - val_accuracy: 0.9532 - lr: 0.0010 - 30s/epoch - 181ms/step\n",
            "Epoch 38/100\n",
            "\n",
            "Epoch 38: val_accuracy did not improve from 0.96979\n",
            "165/165 - 30s - loss: 0.1127 - accuracy: 0.9563 - val_loss: 0.1136 - val_accuracy: 0.9577 - lr: 0.0010 - 30s/epoch - 184ms/step\n",
            "Epoch 39/100\n",
            "\n",
            "Epoch 39: val_accuracy did not improve from 0.96979\n",
            "165/165 - 30s - loss: 0.1058 - accuracy: 0.9593 - val_loss: 0.1397 - val_accuracy: 0.9554 - lr: 0.0010 - 30s/epoch - 181ms/step\n",
            "Epoch 40/100\n",
            "\n",
            "Epoch 40: val_accuracy did not improve from 0.96979\n",
            "165/165 - 31s - loss: 0.1152 - accuracy: 0.9566 - val_loss: 0.1507 - val_accuracy: 0.9486 - lr: 0.0010 - 31s/epoch - 185ms/step\n",
            "Epoch 41/100\n",
            "\n",
            "Epoch 41: val_accuracy improved from 0.96979 to 0.97092, saving model to best_m.h5\n",
            "165/165 - 30s - loss: 0.1081 - accuracy: 0.9597 - val_loss: 0.0780 - val_accuracy: 0.9709 - lr: 0.0010 - 30s/epoch - 181ms/step\n",
            "Epoch 42/100\n",
            "\n",
            "Epoch 42: val_accuracy did not improve from 0.97092\n",
            "165/165 - 29s - loss: 0.1030 - accuracy: 0.9595 - val_loss: 1.1002 - val_accuracy: 0.8172 - lr: 0.0010 - 29s/epoch - 178ms/step\n",
            "Epoch 43/100\n",
            "\n",
            "Epoch 43: val_accuracy did not improve from 0.97092\n",
            "165/165 - 30s - loss: 0.1095 - accuracy: 0.9558 - val_loss: 0.0864 - val_accuracy: 0.9679 - lr: 0.0010 - 30s/epoch - 184ms/step\n",
            "Epoch 44/100\n",
            "\n",
            "Epoch 44: val_accuracy did not improve from 0.97092\n",
            "165/165 - 29s - loss: 0.0908 - accuracy: 0.9651 - val_loss: 0.2353 - val_accuracy: 0.9316 - lr: 0.0010 - 29s/epoch - 177ms/step\n",
            "Epoch 45/100\n",
            "\n",
            "Epoch 45: val_accuracy improved from 0.97092 to 0.97243, saving model to best_m.h5\n",
            "165/165 - 30s - loss: 0.0940 - accuracy: 0.9646 - val_loss: 0.0786 - val_accuracy: 0.9724 - lr: 0.0010 - 30s/epoch - 178ms/step\n",
            "Epoch 46/100\n",
            "\n",
            "Epoch 46: val_accuracy did not improve from 0.97243\n",
            "165/165 - 30s - loss: 0.0938 - accuracy: 0.9642 - val_loss: 0.0926 - val_accuracy: 0.9630 - lr: 0.0010 - 30s/epoch - 183ms/step\n",
            "Epoch 47/100\n",
            "\n",
            "Epoch 47: val_accuracy did not improve from 0.97243\n",
            "165/165 - 30s - loss: 0.0972 - accuracy: 0.9642 - val_loss: 0.1560 - val_accuracy: 0.9498 - lr: 0.0010 - 30s/epoch - 179ms/step\n",
            "Epoch 48/100\n",
            "\n",
            "Epoch 48: val_accuracy did not improve from 0.97243\n",
            "165/165 - 29s - loss: 0.0957 - accuracy: 0.9628 - val_loss: 0.0789 - val_accuracy: 0.9717 - lr: 0.0010 - 29s/epoch - 175ms/step\n",
            "Epoch 49/100\n",
            "\n",
            "Epoch 49: val_accuracy did not improve from 0.97243\n",
            "165/165 - 30s - loss: 0.0925 - accuracy: 0.9652 - val_loss: 0.1149 - val_accuracy: 0.9641 - lr: 0.0010 - 30s/epoch - 180ms/step\n",
            "Epoch 50/100\n",
            "\n",
            "Epoch 50: val_accuracy did not improve from 0.97243\n",
            "165/165 - 29s - loss: 0.0901 - accuracy: 0.9665 - val_loss: 0.0861 - val_accuracy: 0.9698 - lr: 0.0010 - 29s/epoch - 175ms/step\n",
            "Epoch 51/100\n",
            "\n",
            "Epoch 51: val_accuracy did not improve from 0.97243\n",
            "165/165 - 29s - loss: 0.0954 - accuracy: 0.9618 - val_loss: 0.0788 - val_accuracy: 0.9721 - lr: 0.0010 - 29s/epoch - 176ms/step\n",
            "Epoch 52/100\n",
            "\n",
            "Epoch 52: val_accuracy did not improve from 0.97243\n",
            "165/165 - 29s - loss: 0.0940 - accuracy: 0.9642 - val_loss: 0.0930 - val_accuracy: 0.9668 - lr: 0.0010 - 29s/epoch - 178ms/step\n",
            "Epoch 53/100\n",
            "\n",
            "Epoch 53: val_accuracy did not improve from 0.97243\n",
            "165/165 - 29s - loss: 0.0941 - accuracy: 0.9642 - val_loss: 0.0795 - val_accuracy: 0.9705 - lr: 0.0010 - 29s/epoch - 175ms/step\n",
            "Epoch 54/100\n",
            "\n",
            "Epoch 54: val_accuracy did not improve from 0.97243\n",
            "165/165 - 29s - loss: 0.0887 - accuracy: 0.9673 - val_loss: 0.0814 - val_accuracy: 0.9687 - lr: 0.0010 - 29s/epoch - 177ms/step\n",
            "Epoch 55/100\n",
            "\n",
            "Epoch 55: val_accuracy did not improve from 0.97243\n",
            "165/165 - 29s - loss: 0.0871 - accuracy: 0.9662 - val_loss: 0.0841 - val_accuracy: 0.9721 - lr: 0.0010 - 29s/epoch - 178ms/step\n",
            "Epoch 56/100\n",
            "\n",
            "Epoch 56: val_accuracy did not improve from 0.97243\n",
            "165/165 - 29s - loss: 0.0880 - accuracy: 0.9674 - val_loss: 0.0907 - val_accuracy: 0.9664 - lr: 0.0010 - 29s/epoch - 176ms/step\n",
            "Epoch 57/100\n",
            "\n",
            "Epoch 57: val_accuracy improved from 0.97243 to 0.97734, saving model to best_m.h5\n",
            "165/165 - 30s - loss: 0.0661 - accuracy: 0.9749 - val_loss: 0.0657 - val_accuracy: 0.9773 - lr: 1.0000e-04 - 30s/epoch - 180ms/step\n",
            "Epoch 58/100\n",
            "\n",
            "Epoch 58: val_accuracy did not improve from 0.97734\n",
            "165/165 - 29s - loss: 0.0663 - accuracy: 0.9748 - val_loss: 0.0677 - val_accuracy: 0.9770 - lr: 1.0000e-04 - 29s/epoch - 175ms/step\n",
            "Epoch 59/100\n",
            "\n",
            "Epoch 59: val_accuracy improved from 0.97734 to 0.97810, saving model to best_m.h5\n",
            "165/165 - 29s - loss: 0.0640 - accuracy: 0.9759 - val_loss: 0.0624 - val_accuracy: 0.9781 - lr: 1.0000e-04 - 29s/epoch - 175ms/step\n",
            "Epoch 60/100\n",
            "\n",
            "Epoch 60: val_accuracy did not improve from 0.97810\n",
            "165/165 - 30s - loss: 0.0627 - accuracy: 0.9768 - val_loss: 0.0603 - val_accuracy: 0.9777 - lr: 1.0000e-04 - 30s/epoch - 181ms/step\n",
            "Epoch 61/100\n",
            "\n",
            "Epoch 61: val_accuracy did not improve from 0.97810\n",
            "165/165 - 29s - loss: 0.0581 - accuracy: 0.9778 - val_loss: 0.0649 - val_accuracy: 0.9758 - lr: 1.0000e-04 - 29s/epoch - 174ms/step\n",
            "Epoch 62/100\n",
            "\n",
            "Epoch 62: val_accuracy did not improve from 0.97810\n",
            "165/165 - 29s - loss: 0.0592 - accuracy: 0.9781 - val_loss: 0.0635 - val_accuracy: 0.9766 - lr: 1.0000e-04 - 29s/epoch - 175ms/step\n",
            "Epoch 63/100\n",
            "\n",
            "Epoch 63: val_accuracy improved from 0.97810 to 0.98036, saving model to best_m.h5\n",
            "165/165 - 30s - loss: 0.0591 - accuracy: 0.9776 - val_loss: 0.0594 - val_accuracy: 0.9804 - lr: 1.0000e-04 - 30s/epoch - 181ms/step\n",
            "Epoch 64/100\n",
            "\n",
            "Epoch 64: val_accuracy did not improve from 0.98036\n",
            "165/165 - 29s - loss: 0.0566 - accuracy: 0.9803 - val_loss: 0.0629 - val_accuracy: 0.9796 - lr: 1.0000e-04 - 29s/epoch - 176ms/step\n",
            "Epoch 65/100\n",
            "\n",
            "Epoch 65: val_accuracy did not improve from 0.98036\n",
            "165/165 - 29s - loss: 0.0583 - accuracy: 0.9783 - val_loss: 0.0592 - val_accuracy: 0.9785 - lr: 1.0000e-04 - 29s/epoch - 176ms/step\n",
            "Epoch 66/100\n",
            "\n",
            "Epoch 66: val_accuracy did not improve from 0.98036\n",
            "165/165 - 30s - loss: 0.0572 - accuracy: 0.9778 - val_loss: 0.0564 - val_accuracy: 0.9773 - lr: 1.0000e-04 - 30s/epoch - 182ms/step\n",
            "Epoch 67/100\n",
            "\n",
            "Epoch 67: val_accuracy did not improve from 0.98036\n",
            "165/165 - 29s - loss: 0.0567 - accuracy: 0.9780 - val_loss: 0.0602 - val_accuracy: 0.9789 - lr: 1.0000e-04 - 29s/epoch - 176ms/step\n",
            "Epoch 68/100\n",
            "\n",
            "Epoch 68: val_accuracy did not improve from 0.98036\n",
            "165/165 - 29s - loss: 0.0597 - accuracy: 0.9776 - val_loss: 0.0589 - val_accuracy: 0.9800 - lr: 1.0000e-04 - 29s/epoch - 175ms/step\n",
            "Epoch 69/100\n",
            "\n",
            "Epoch 69: val_accuracy did not improve from 0.98036\n",
            "165/165 - 30s - loss: 0.0603 - accuracy: 0.9771 - val_loss: 0.0623 - val_accuracy: 0.9789 - lr: 1.0000e-04 - 30s/epoch - 183ms/step\n",
            "Epoch 70/100\n",
            "\n",
            "Epoch 70: val_accuracy did not improve from 0.98036\n",
            "165/165 - 29s - loss: 0.0559 - accuracy: 0.9803 - val_loss: 0.0593 - val_accuracy: 0.9785 - lr: 1.0000e-04 - 29s/epoch - 177ms/step\n",
            "Epoch 71/100\n",
            "\n",
            "Epoch 71: val_accuracy did not improve from 0.98036\n",
            "165/165 - 29s - loss: 0.0551 - accuracy: 0.9803 - val_loss: 0.0610 - val_accuracy: 0.9762 - lr: 1.0000e-04 - 29s/epoch - 175ms/step\n",
            "Epoch 72/100\n",
            "\n",
            "Epoch 72: val_accuracy improved from 0.98036 to 0.98150, saving model to best_m.h5\n",
            "165/165 - 30s - loss: 0.0591 - accuracy: 0.9767 - val_loss: 0.0537 - val_accuracy: 0.9815 - lr: 1.0000e-04 - 30s/epoch - 181ms/step\n",
            "Epoch 73/100\n",
            "\n",
            "Epoch 73: val_accuracy did not improve from 0.98150\n",
            "165/165 - 29s - loss: 0.0568 - accuracy: 0.9786 - val_loss: 0.0642 - val_accuracy: 0.9751 - lr: 1.0000e-04 - 29s/epoch - 176ms/step\n",
            "Epoch 74/100\n",
            "\n",
            "Epoch 74: val_accuracy did not improve from 0.98150\n",
            "165/165 - 29s - loss: 0.0567 - accuracy: 0.9785 - val_loss: 0.0645 - val_accuracy: 0.9773 - lr: 1.0000e-04 - 29s/epoch - 175ms/step\n",
            "Epoch 75/100\n",
            "\n",
            "Epoch 75: val_accuracy did not improve from 0.98150\n",
            "165/165 - 30s - loss: 0.0576 - accuracy: 0.9770 - val_loss: 0.0598 - val_accuracy: 0.9773 - lr: 1.0000e-04 - 30s/epoch - 180ms/step\n",
            "Epoch 76/100\n",
            "\n",
            "Epoch 76: val_accuracy improved from 0.98150 to 0.98263, saving model to best_m.h5\n",
            "165/165 - 29s - loss: 0.0538 - accuracy: 0.9818 - val_loss: 0.0599 - val_accuracy: 0.9826 - lr: 1.0000e-04 - 29s/epoch - 176ms/step\n",
            "Epoch 77/100\n",
            "\n",
            "Epoch 77: val_accuracy did not improve from 0.98263\n",
            "165/165 - 29s - loss: 0.0570 - accuracy: 0.9786 - val_loss: 0.0617 - val_accuracy: 0.9807 - lr: 1.0000e-04 - 29s/epoch - 178ms/step\n",
            "Epoch 78/100\n",
            "\n",
            "Epoch 78: val_accuracy did not improve from 0.98263\n",
            "165/165 - 30s - loss: 0.0555 - accuracy: 0.9792 - val_loss: 0.0593 - val_accuracy: 0.9826 - lr: 1.0000e-04 - 30s/epoch - 178ms/step\n",
            "Epoch 79/100\n",
            "\n",
            "Epoch 79: val_accuracy did not improve from 0.98263\n",
            "165/165 - 30s - loss: 0.0543 - accuracy: 0.9787 - val_loss: 0.0619 - val_accuracy: 0.9773 - lr: 1.0000e-04 - 30s/epoch - 178ms/step\n",
            "Epoch 80/100\n",
            "\n",
            "Epoch 80: val_accuracy did not improve from 0.98263\n",
            "165/165 - 30s - loss: 0.0532 - accuracy: 0.9801 - val_loss: 0.0561 - val_accuracy: 0.9792 - lr: 1.0000e-04 - 30s/epoch - 182ms/step\n",
            "Epoch 81/100\n",
            "\n",
            "Epoch 81: val_accuracy did not improve from 0.98263\n",
            "165/165 - 30s - loss: 0.0528 - accuracy: 0.9802 - val_loss: 0.0622 - val_accuracy: 0.9773 - lr: 1.0000e-04 - 30s/epoch - 181ms/step\n",
            "Epoch 82/100\n",
            "\n",
            "Epoch 82: val_accuracy did not improve from 0.98263\n",
            "165/165 - 30s - loss: 0.0500 - accuracy: 0.9800 - val_loss: 0.0584 - val_accuracy: 0.9789 - lr: 1.0000e-04 - 30s/epoch - 180ms/step\n",
            "Epoch 83/100\n",
            "\n",
            "Epoch 83: val_accuracy did not improve from 0.98263\n",
            "165/165 - 31s - loss: 0.0550 - accuracy: 0.9786 - val_loss: 0.0599 - val_accuracy: 0.9785 - lr: 1.0000e-04 - 31s/epoch - 187ms/step\n",
            "Epoch 84/100\n",
            "\n",
            "Epoch 84: val_accuracy did not improve from 0.98263\n",
            "165/165 - 30s - loss: 0.0530 - accuracy: 0.9800 - val_loss: 0.0606 - val_accuracy: 0.9773 - lr: 1.0000e-04 - 30s/epoch - 181ms/step\n",
            "Epoch 85/100\n",
            "\n",
            "Epoch 85: val_accuracy did not improve from 0.98263\n",
            "165/165 - 30s - loss: 0.0514 - accuracy: 0.9810 - val_loss: 0.0598 - val_accuracy: 0.9804 - lr: 1.0000e-04 - 30s/epoch - 181ms/step\n",
            "Epoch 86/100\n",
            "\n",
            "Epoch 86: val_accuracy did not improve from 0.98263\n",
            "165/165 - 31s - loss: 0.0543 - accuracy: 0.9816 - val_loss: 0.0679 - val_accuracy: 0.9747 - lr: 1.0000e-04 - 31s/epoch - 187ms/step\n",
            "Epoch 87/100\n",
            "\n",
            "Epoch 87: val_accuracy did not improve from 0.98263\n",
            "165/165 - 30s - loss: 0.0481 - accuracy: 0.9815 - val_loss: 0.0600 - val_accuracy: 0.9789 - lr: 1.0000e-04 - 30s/epoch - 183ms/step\n",
            "Epoch 88/100\n",
            "\n",
            "Epoch 88: val_accuracy did not improve from 0.98263\n",
            "165/165 - 30s - loss: 0.0520 - accuracy: 0.9809 - val_loss: 0.0580 - val_accuracy: 0.9781 - lr: 1.0000e-05 - 30s/epoch - 182ms/step\n",
            "Epoch 89/100\n",
            "\n",
            "Epoch 89: val_accuracy did not improve from 0.98263\n",
            "165/165 - 31s - loss: 0.0501 - accuracy: 0.9819 - val_loss: 0.0590 - val_accuracy: 0.9773 - lr: 1.0000e-05 - 31s/epoch - 188ms/step\n",
            "Epoch 90/100\n",
            "\n",
            "Epoch 90: val_accuracy did not improve from 0.98263\n",
            "165/165 - 30s - loss: 0.0490 - accuracy: 0.9821 - val_loss: 0.0579 - val_accuracy: 0.9773 - lr: 1.0000e-05 - 30s/epoch - 180ms/step\n",
            "Epoch 91/100\n",
            "\n",
            "Epoch 91: val_accuracy did not improve from 0.98263\n",
            "165/165 - 30s - loss: 0.0511 - accuracy: 0.9819 - val_loss: 0.0587 - val_accuracy: 0.9762 - lr: 1.0000e-05 - 30s/epoch - 181ms/step\n",
            "Epoch 92/100\n",
            "\n",
            "Epoch 92: val_accuracy did not improve from 0.98263\n",
            "165/165 - 31s - loss: 0.0510 - accuracy: 0.9792 - val_loss: 0.0575 - val_accuracy: 0.9800 - lr: 1.0000e-05 - 31s/epoch - 186ms/step\n",
            "Epoch 93/100\n",
            "\n",
            "Epoch 93: val_accuracy did not improve from 0.98263\n",
            "165/165 - 30s - loss: 0.0514 - accuracy: 0.9831 - val_loss: 0.0580 - val_accuracy: 0.9789 - lr: 1.0000e-05 - 30s/epoch - 181ms/step\n",
            "Epoch 94/100\n",
            "\n",
            "Epoch 94: val_accuracy did not improve from 0.98263\n",
            "165/165 - 30s - loss: 0.0497 - accuracy: 0.9815 - val_loss: 0.0579 - val_accuracy: 0.9796 - lr: 1.0000e-05 - 30s/epoch - 182ms/step\n",
            "Epoch 95/100\n",
            "\n",
            "Epoch 95: val_accuracy did not improve from 0.98263\n",
            "165/165 - 31s - loss: 0.0473 - accuracy: 0.9822 - val_loss: 0.0585 - val_accuracy: 0.9796 - lr: 1.0000e-05 - 31s/epoch - 185ms/step\n",
            "Epoch 96/100\n",
            "\n",
            "Epoch 96: val_accuracy did not improve from 0.98263\n",
            "165/165 - 30s - loss: 0.0513 - accuracy: 0.9813 - val_loss: 0.0584 - val_accuracy: 0.9792 - lr: 1.0000e-05 - 30s/epoch - 180ms/step\n",
            "Epoch 97/100\n",
            "\n",
            "Epoch 97: val_accuracy did not improve from 0.98263\n",
            "165/165 - 31s - loss: 0.0510 - accuracy: 0.9808 - val_loss: 0.0583 - val_accuracy: 0.9777 - lr: 1.0000e-05 - 31s/epoch - 185ms/step\n",
            "Epoch 98/100\n",
            "\n",
            "Epoch 98: val_accuracy did not improve from 0.98263\n",
            "165/165 - 30s - loss: 0.0501 - accuracy: 0.9805 - val_loss: 0.0583 - val_accuracy: 0.9781 - lr: 1.0000e-05 - 30s/epoch - 182ms/step\n",
            "Epoch 99/100\n",
            "\n",
            "Epoch 99: val_accuracy did not improve from 0.98263\n",
            "165/165 - 30s - loss: 0.0486 - accuracy: 0.9803 - val_loss: 0.0582 - val_accuracy: 0.9785 - lr: 1.0000e-05 - 30s/epoch - 181ms/step\n",
            "Epoch 100/100\n",
            "\n",
            "Epoch 100: val_accuracy did not improve from 0.98263\n",
            "165/165 - 31s - loss: 0.0462 - accuracy: 0.9827 - val_loss: 0.0590 - val_accuracy: 0.9781 - lr: 1.0000e-05 - 31s/epoch - 186ms/step\n"
          ]
        },
        {
          "output_type": "display_data",
          "data": {
            "text/plain": [
              "<Figure size 640x480 with 1 Axes>"
            ],
            "image/png": "[encoded data removed]"
          },
          "metadata": {}
        }
      ],
      "source": [
        "## TRAINING with DA\n",
        "history=model.fit(datagen.flow(x_train, y_train,batch_size=batch_size),\n",
        "                            steps_per_epoch=len(x_train) / batch_size, \n",
        "                            epochs=epochs,\n",
        "                            validation_data=(x_test, y_test),\n",
        "                            callbacks=[es,mc, reduce_lr],\n",
        "                            verbose=2)\n",
        "plot_evolution(history)"
      ]
    },
    {
      "cell_type": "code",
      "execution_count": 25,
      "metadata": {
        "colab": {
          "base_uri": "https://localhost:8080/"
        },
        "id": "-E-d722pEPsU",
        "outputId": "d511b7cb-18f3-4c93-b69b-bd7b10013bd4"
      },
      "outputs": [
        {
          "output_type": "stream",
          "name": "stdout",
          "text": [
            "83/83 [==============================] - 1s 9ms/step - loss: 0.0590 - accuracy: 0.9781\n",
            "Test loss: 0.05897921696305275\n",
            "Test accuracy: 0.9780966639518738\n"
          ]
        }
      ],
      "source": [
        "## TEST\n",
        "scores = model.evaluate(x_test, y_test, verbose=1)\n",
        "print('Test loss:', scores[0])\n",
        "print('Test accuracy:', scores[1])"
      ]
    },
    {
      "cell_type": "code",
      "execution_count": 26,
      "metadata": {
        "id": "ZWJPX4NLERwP"
      },
      "outputs": [],
      "source": [
        "from tensorflow.keras.models import load_model"
      ]
    },
    {
      "cell_type": "code",
      "execution_count": 27,
      "metadata": {
        "colab": {
          "base_uri": "https://localhost:8080/"
        },
        "id": "G0uZbTTbETuU",
        "outputId": "4bfcd254-0de5-4472-e3a3-f3b712fb765e"
      },
      "outputs": [
        {
          "output_type": "stream",
          "name": "stdout",
          "text": [
            "Train: 0.992, Test: 0.983\n"
          ]
        }
      ],
      "source": [
        "# load the saved model\n",
        "saved_model = load_model('best_m.h5')\n",
        "# evaluate the model\n",
        "_, train_acc = saved_model.evaluate(x_train, y_train, verbose=0)\n",
        "_, test_acc = saved_model.evaluate(x_test, y_test, verbose=0)\n",
        "print('Train: %.3f, Test: %.3f' % (train_acc, test_acc))"
      ]
    },
    {
      "cell_type": "code",
      "execution_count": null,
      "metadata": {
        "id": "0dDZNkjiEU7s"
      },
      "outputs": [],
      "source": []
    }
  ],
  "metadata": {
    "accelerator": "GPU",
    "colab": {
      "provenance": []
    },
    "gpuClass": "standard",
    "kernelspec": {
      "display_name": "Python 3",
      "name": "python3"
    }
  },
  "nbformat": 4,
  "nbformat_minor": 0
}